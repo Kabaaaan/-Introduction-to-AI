{
  "nbformat": 4,
  "nbformat_minor": 0,
  "metadata": {
    "colab": {
      "provenance": [],
      "authorship_tag": "ABX9TyO6l56h3/B2W1eik/w3BU5S",
      "include_colab_link": true
    },
    "kernelspec": {
      "name": "python3",
      "display_name": "Python 3"
    },
    "language_info": {
      "name": "python"
    }
  },
  "cells": [
    {
      "cell_type": "markdown",
      "metadata": {
        "id": "view-in-github",
        "colab_type": "text"
      },
      "source": [
        "<a href=\"https://colab.research.google.com/github/Kabaaaan/-Introduction-to-AI/blob/main/Intro_AI_task_2.ipynb\" target=\"_parent\"><img src=\"https://colab.research.google.com/assets/colab-badge.svg\" alt=\"Open In Colab\"/></a>"
      ]
    },
    {
      "cell_type": "markdown",
      "source": [
        "Нечеткая логика - это логика, имитирующая мышление живого человека, т.е. она не опирается на Аристотеля (1 - истина, 0 - ложь), в нечеткой логике между 0 и 1 есть также множнество значений. Создали эту логику, чтобы алгоритм нечёткой логики думал «по-нашему», он должен действовать как человек.\n",
        "\n",
        "Пример: \"Температура 23°C? Это не совсем \"тепло\", но уже и не \"прохладно\". Скажем, на 70% это \"тепло\" и на 30% — \"прохладно\"."
      ],
      "metadata": {
        "id": "C8fYzDVlHoEM"
      }
    },
    {
      "cell_type": "markdown",
      "source": [
        " Нечеткое множество\n",
        "\n",
        " Нечёткие множества могут рассматриваться как продолжение классических. В классическом случае элемент может относиться либо не относиться к множеству, тогда как к нечёткому множеству элемент может относиться как целиком, так и на половину, на четверть или на крошечную долю."
      ],
      "metadata": {
        "id": "M_ET9nxzH9Kj"
      }
    },
    {
      "cell_type": "markdown",
      "source": [
        "Лингвистические переменные и значения. Универсум\n",
        "\n",
        "Лингвистическими называются такие переменные, в которых слова и даже выражения берутся из обычного разговорного языка. Лингвистические значения – это, в сущности, значения лингвистических переменных.\n",
        "\n",
        "***temperature (t) = {cold, warm, hot}***\n",
        "\n",
        "В вышеприведённом примере temperature – это наша лингвистическая переменная, а cold, warm и hot – это лингвистические значения.\n",
        "\n",
        "Универсум - диапазон всех возможных значений для входной или выходной переменной."
      ],
      "metadata": {
        "id": "bbjE3EgpIfoQ"
      }
    },
    {
      "cell_type": "markdown",
      "source": [
        "Функции принадлежности (треугольные, трапециевидные, гауссовы)\n",
        "\n",
        "Это математический инструмент, который как раз и определяет, насколько элемент принадлежит нечеткому множеству. Она возвращает значение от 0 (полностью не принадлежит) до 1 (полностью принадлежит).\n",
        "\n",
        "\n",
        "Нечёткая логика основана на простом правиле IF-THEN (ЕСЛИ-ТО) с условием и заключением. Это \"мозг\" системы. Здесь вы кодируете логику принятия решений эксперта на естественном языке.\n",
        "\n",
        "* Простая треугольная форма с пиком в центре.\n",
        "* Форма с \"плато\" - областью полной принадлежности. Целый диапазон значений имеет полную принадлежность.\n",
        "* Плавная колоколообразная кривая. Когда нужны очень плавные переходы."
      ],
      "metadata": {
        "id": "3a6iiUWBIsbV"
      }
    },
    {
      "cell_type": "markdown",
      "source": [
        "Дефаззификация\n",
        "\n",
        "Дефаззификация - Процесс преобразования нечеткого множества (результат работы правил) в четкое число.\n",
        "\n",
        "Нечёткое значение можно дефаззифицировать разными способами. Вот некоторые из них:\n",
        "\n",
        "* Сумма центров\n",
        "* Центроидный метод (centroid) - Находит центр масс фигуры (площади под кривой). Он дает наиболее сбалансированные и плавные результаты для систем управления.\n",
        "* Метод центра площади\n",
        "* Средневзвешенный метод\n",
        "* Метод максимума функции принадлежности"
      ],
      "metadata": {
        "id": "JiEbKNLvJSdQ"
      }
    },
    {
      "cell_type": "markdown",
      "source": [
        "Вариант 10\n",
        "\n",
        "Скорость кулера в компьютере. Вход: температура процессора T ∈ [30, 100] °C (низкая, средняя, высокая). Выход: скорость вентилятора F ∈ [0, 100]% (низкая, средняя, высокая). Сформулируйте 5–7 правил и рассчитайте результат для T = 40, 70, 90.\n",
        "\n",
        "Требования:\n",
        "* Кратко описать универсумы и выбранные функции принадлежности (с параметрами).\n",
        "* Привести список правил ЕСЛИ–ТО (2–9 правил в зависимости от варианта).\n",
        "* Пояснить выбранные t-нормы/s-нормы и метод дефаззификации.\n",
        "* Показать расчёт/код и полученные графики (функции принадлежности, поверхность/карта вывода).\n",
        "* Провести небольшой анализ чувствительности (изменить 1–2 параметра и прокомментировать\n",
        "эффект).\n"
      ],
      "metadata": {
        "id": "20OuE-mKLqjq"
      }
    },
    {
      "cell_type": "code",
      "source": [
        "!pip install scikit-fuzzy\n",
        "!python --version"
      ],
      "metadata": {
        "colab": {
          "base_uri": "https://localhost:8080/"
        },
        "id": "D_8VXAAxLP8n",
        "outputId": "706f3e02-0ba7-4baf-d0ba-2163c7a9be66"
      },
      "execution_count": 1,
      "outputs": [
        {
          "output_type": "stream",
          "name": "stdout",
          "text": [
            "Collecting scikit-fuzzy\n",
            "  Downloading scikit_fuzzy-0.5.0-py2.py3-none-any.whl.metadata (2.6 kB)\n",
            "Downloading scikit_fuzzy-0.5.0-py2.py3-none-any.whl (920 kB)\n",
            "\u001b[2K   \u001b[90m━━━━━━━━━━━━━━━━━━━━━━━━━━━━━━━━━━━━━━━━\u001b[0m \u001b[32m920.8/920.8 kB\u001b[0m \u001b[31m7.7 MB/s\u001b[0m eta \u001b[36m0:00:00\u001b[0m\n",
            "\u001b[?25hInstalling collected packages: scikit-fuzzy\n",
            "Successfully installed scikit-fuzzy-0.5.0\n",
            "Python 3.12.11\n"
          ]
        }
      ]
    },
    {
      "cell_type": "code",
      "source": [
        "import numpy as np\n",
        "import skfuzzy as fuzz\n",
        "from skfuzzy import control as ctrl\n",
        "import matplotlib.pyplot as plt"
      ],
      "metadata": {
        "id": "1qe1RhW-LDr4"
      },
      "execution_count": 2,
      "outputs": []
    },
    {
      "cell_type": "code",
      "source": [
        "# @title Определение универсумов и переменных\n",
        "temp_universe = np.arange(30, 101, 1)\n",
        "fan_universe = np.arange(0, 101, 1)\n",
        "\n",
        "temperature = ctrl.Antecedent(temp_universe, 'temperature')\n",
        "fan_speed = ctrl.Consequent(fan_universe, 'fan_speed')"
      ],
      "metadata": {
        "id": "JkMR0XBtQMhH"
      },
      "execution_count": 3,
      "outputs": []
    },
    {
      "cell_type": "code",
      "source": [
        "# @title Задание функций принадлежности\n",
        "# Трапецевидные для крайних и треугольные для остальных\n",
        "temperature['very_low'] = fuzz.trapmf(temperature.universe, [30, 30, 35, 42])\n",
        "temperature['low'] = fuzz.trimf(temperature.universe, [38, 45, 58])\n",
        "temperature['medium'] = fuzz.trimf(temperature.universe, [55, 65, 75])\n",
        "temperature['high'] = fuzz.trimf(temperature.universe, [72, 85, 92])\n",
        "temperature['very_high'] = fuzz.trapmf(temperature.universe, [88, 92, 100, 100])\n",
        "\n",
        "fan_speed['very_low'] = fuzz.trapmf(fan_speed.universe, [0, 0, 10, 25])\n",
        "fan_speed['low'] = fuzz.trimf(fan_speed.universe, [15, 30, 45])\n",
        "fan_speed['medium'] = fuzz.trimf(fan_speed.universe, [25, 50, 75])\n",
        "fan_speed['high'] = fuzz.trimf(fan_speed.universe, [65, 75, 85])\n",
        "fan_speed['max'] = fuzz.trapmf(fan_speed.universe, [75, 85, 100, 100])"
      ],
      "metadata": {
        "id": "U16CGl4bQM5u"
      },
      "execution_count": 4,
      "outputs": []
    },
    {
      "cell_type": "code",
      "source": [
        "# @title Визуализация функций принадлежности\n",
        "temperature.view()\n",
        "fan_speed.view()\n",
        "plt.show()"
      ],
      "metadata": {
        "id": "HqMMp75ZQNGV"
      },
      "execution_count": null,
      "outputs": []
    },
    {
      "cell_type": "code",
      "source": [
        "# @title Формулировка правил\n",
        "rule1 = ctrl.Rule(temperature['very_low'], fan_speed['very_low'])\n",
        "rule2 = ctrl.Rule(temperature['low'], fan_speed['low'])\n",
        "rule3 = ctrl.Rule(temperature['medium'], fan_speed['medium'])\n",
        "rule4 = ctrl.Rule(temperature['high'], fan_speed['high'])\n",
        "rule5 = ctrl.Rule(temperature['very_high'], fan_speed['max'])"
      ],
      "metadata": {
        "id": "XaH1Eb3VQT0N"
      },
      "execution_count": 6,
      "outputs": []
    },
    {
      "cell_type": "code",
      "source": [
        "# @title Создание системы управления с явными операторами\n",
        "\n",
        "fan_speed.defuzzify_method = 'centroid'  # Метод дефаззификации\n",
        "fan_ctrl = ctrl.ControlSystem(rules=[rule1, rule2, rule3, rule4, rule5])\n",
        "\n",
        "fan_ctrl.and_method = np.fmin       # T-норма - Операция пересечения нечетких множеств (\"И\"). - minimum. Правило срабатывает настолько сильно, насколько слабое его самое слабое условие.\n",
        "fan_ctrl.or_method = np.fmax        # S-норма - Операция объединения нечетких множеств (\"ИЛИ\"). - maximum. Учитывает любое из условий - если хоть одно условие сильно выражено, правило срабатывает сильно.\n",
        "fan_ctrl.implication_method = np.fmin # Метод импликации - minimum - Определяет, как применять силу активации правила к выходному множеству. \"Обрезает\" выходное множество на уровне силы активации правила.\n",
        "fan_ctrl.aggregation_method = np.fmax # Метод агрегации - maximum - Объединение результатов всех правил в одно нечеткое множество. Берет максимальное значение из всех правил для каждой точки универсума.\n",
        "fan_simulation = ctrl.ControlSystemSimulation(fan_ctrl)"
      ],
      "metadata": {
        "id": "I2pl3H9vQT-t"
      },
      "execution_count": 12,
      "outputs": []
    },
    {
      "cell_type": "code",
      "source": [
        "# @title Расчет для конкретных температур\n",
        "test_temps = [40, 70, 90]\n",
        "for temp in test_temps:\n",
        "    fan_simulation.input['temperature'] = temp\n",
        "    fan_simulation.compute()\n",
        "    print(f\"При T = {temp} °C: F = {fan_simulation.output['fan_speed']:.1f}%\")\n",
        "    fan_speed.view(sim=fan_simulation)\n",
        "    plt.show()"
      ],
      "metadata": {
        "id": "RIWVLdZJQUMm"
      },
      "execution_count": null,
      "outputs": []
    },
    {
      "cell_type": "code",
      "source": [
        "# @title Построение поверхности нечеткого вывода\n",
        "\n",
        "# Генерирует все возможные комбинации входов и выходов\n",
        "\n",
        "fig, ax = plt.subplots(figsize=(8, 6))\n",
        "ax.set_xlabel('Температура процессора (°C)')\n",
        "ax.set_ylabel('Скорость вентилятора (%)')\n",
        "ax.set_title('Нечеткая логика: Зависимость скорости вентилятора от температуры')\n",
        "ax.grid(True)\n",
        "\n",
        "temps_to_plot = np.arange(30, 101, 1)\n",
        "fan_speeds = []\n",
        "for t in temps_to_plot:\n",
        "    fan_simulation.input['temperature'] = t\n",
        "    fan_simulation.compute()\n",
        "    fan_speeds.append(fan_simulation.output['fan_speed'])\n",
        "\n",
        "ax.plot(temps_to_plot, fan_speeds, 'b-', linewidth=2)\n",
        "plt.show()"
      ],
      "metadata": {
        "id": "u5qcIynDQfY4"
      },
      "execution_count": null,
      "outputs": []
    },
    {
      "cell_type": "code",
      "source": [
        "import unittest\n",
        "\n",
        "class TestFuzzyFanControl(unittest.TestCase):\n",
        "\n",
        "    def test_very_low_temperature(self):\n",
        "        \"\"\"Тест для очень низкой температуры (40°C)\"\"\"\n",
        "        fan_simulation.input['temperature'] = 40\n",
        "        fan_simulation.compute()\n",
        "        speed = fan_simulation.output['fan_speed']\n",
        "        self.assertLess(speed, 25)\n",
        "        print(f\"T=40°C: F={speed:.1f}% - OK\")\n",
        "\n",
        "    def test_low_temperature(self):\n",
        "        \"\"\"Тест для низкой температуры (50°C)\"\"\"\n",
        "        fan_simulation.input['temperature'] = 50\n",
        "        fan_simulation.compute()\n",
        "        speed = fan_simulation.output['fan_speed']\n",
        "        self.assertGreaterEqual(speed, 15)\n",
        "        self.assertLessEqual(speed, 45)\n",
        "        print(f\"T=50°C: F={speed:.1f}% - OK\")\n",
        "\n",
        "    def test_medium_temperature(self):\n",
        "        \"\"\"Тест для средней температуры (65°C)\"\"\"\n",
        "        fan_simulation.input['temperature'] = 65\n",
        "        fan_simulation.compute()\n",
        "        speed = fan_simulation.output['fan_speed']\n",
        "        self.assertGreaterEqual(speed, 25)\n",
        "        self.assertLessEqual(speed, 75)\n",
        "        print(f\"T=65°C: F={speed:.1f}% - OK\")\n",
        "\n",
        "    def test_high_temperature(self):\n",
        "        \"\"\"Тест для высокой температуры (80°C)\"\"\"\n",
        "        fan_simulation.input['temperature'] = 80\n",
        "        fan_simulation.compute()\n",
        "        speed = fan_simulation.output['fan_speed']\n",
        "        self.assertGreaterEqual(speed, 65)\n",
        "        self.assertLessEqual(speed, 85)\n",
        "        print(f\"T=80°C: F={speed:.1f}% - OK\")\n",
        "\n",
        "    def test_very_high_temperature(self):\n",
        "        \"\"\"Тест для очень высокой температуры (95°C)\"\"\"\n",
        "        fan_simulation.input['temperature'] = 95\n",
        "        fan_simulation.compute()\n",
        "        speed = fan_simulation.output['fan_speed']\n",
        "        self.assertGreater(speed, 75)\n",
        "        print(f\"T=95°C: F={speed:.1f}% - OK\")\n",
        "\n",
        "    def test_speed_in_range(self):\n",
        "        \"\"\"Тест что скорость всегда в диапазоне 0-100%\"\"\"\n",
        "        test_temps = [35, 60, 75, 90]\n",
        "        for temp in test_temps:\n",
        "            fan_simulation.input['temperature'] = temp\n",
        "            fan_simulation.compute()\n",
        "            speed = fan_simulation.output['fan_speed']\n",
        "            self.assertGreaterEqual(speed, 0)\n",
        "            self.assertLessEqual(speed, 100)\n",
        "            print(f\"T={temp}°C: F={speed:.1f}% (в диапазоне) - OK\")\n",
        "\n",
        "\n",
        "if __name__ == '__main__':\n",
        "    unittest.main(argv=[''], verbosity=2, exit=False)"
      ],
      "metadata": {
        "id": "QmznALF6HmmC"
      },
      "execution_count": null,
      "outputs": []
    }
  ]
}