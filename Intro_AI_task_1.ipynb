{
  "nbformat": 4,
  "nbformat_minor": 0,
  "metadata": {
    "colab": {
      "provenance": [],
      "authorship_tag": "ABX9TyOPX/vBchLaklaKmE2yNnpV",
      "include_colab_link": true
    },
    "kernelspec": {
      "name": "python3",
      "display_name": "Python 3"
    },
    "language_info": {
      "name": "python"
    }
  },
  "cells": [
    {
      "cell_type": "markdown",
      "metadata": {
        "id": "view-in-github",
        "colab_type": "text"
      },
      "source": [
        "<a href=\"https://colab.research.google.com/github/Kabaaaan/-Introduction-to-AI/blob/main/Intro_AI_task_1.ipynb\" target=\"_parent\"><img src=\"https://colab.research.google.com/assets/colab-badge.svg\" alt=\"Open In Colab\"/></a>"
      ]
    },
    {
      "cell_type": "markdown",
      "source": [
        "Необходимо разработать программу, которая использует символьные и логические вычисления для классификации птиц по различным характеристикам, таким как размер, окрас и среда обитания. Входные данные будут\n",
        "содержать описания птиц, а выходные данные – вид птицы.\n",
        "\n",
        "\n",
        "Технические требования \\\n",
        "• Программа должна быть написана на Python. \\\n",
        "• Используйте Sympy для обработки и упрощения логических выражений. Документация на русском, документация на английском. \\\n",
        "• Примените Kanren для реализации логического программирования\n",
        "и работы с правилами вывода. Для работы данного модуля версия\n",
        "Python должна быть старее, чем 3.10.\n",
        "\n",
        "\n",
        "\n"
      ],
      "metadata": {
        "id": "PHvkuELg1FaO"
      }
    },
    {
      "cell_type": "markdown",
      "source": [
        "**Шаги выполнения**\n",
        "\n",
        "1. Используйте Sympy для создания символьных переменных, описывающих размер, окрас и среду обитания птиц.\n",
        "2. В Kanren определите факты, представляющие различные виды птиц\n",
        "и их характеристики. Создайте логические правила для классификации птиц на основе их характеристик.\n",
        "3. Реализация логического вывода: настройте запросы к базе знаний\n",
        "для определения видов птиц на основе входных данных.\n",
        "\n",
        "\n",
        "**Критерии зачета по лабораторной**\n",
        "1. Реализованы требования из предыдущих разделов.\n",
        "2. Имеется пользовательский интерфейс (можно консольный) для осуществления запросов.\n",
        "3. Обработаны ошибки ввода (например, пользователь ввел набор знаний, под который не подпадает ни один вид птиц).\n"
      ],
      "metadata": {
        "id": "wWTgOYBF6TIA"
      }
    },
    {
      "cell_type": "code",
      "execution_count": null,
      "metadata": {
        "collapsed": true,
        "id": "qa0KhbuozTuC",
        "cellView": "form"
      },
      "outputs": [],
      "source": [
        "# @title Окружение\n",
        "\n",
        "!sudo apt-get update -y\n",
        "!sudo apt-get install software-properties-common -y\n",
        "!sudo add-apt-repository ppa:deadsnakes/ppa -y\n",
        "!sudo apt-get update -y\n",
        "!sudo apt-get install python3.7 -y\n",
        "\n",
        "# !python3.7 --version"
      ]
    },
    {
      "cell_type": "markdown",
      "source": [],
      "metadata": {
        "id": "C6zLDKjDSzlF"
      }
    },
    {
      "cell_type": "code",
      "source": [
        "from kanren import Relation, facts, run, var, conde, lall, eq\n",
        "from sympy import symbols"
      ],
      "metadata": {
        "id": "TocWaZgf1AXR"
      },
      "execution_count": 1,
      "outputs": []
    },
    {
      "cell_type": "code",
      "source": [
        "# @title Символьные переменные\n",
        "\n",
        "size, color, habitat = symbols('size color habitat')\n",
        "\n",
        "SIZE_SMALL, SIZE_MEDIUM, SIZE_LARGE = symbols('small medium large')\n",
        "COLOR_RED, COLOR_BLUE, COLOR_BROWN, COLOR_WHITE, COLOR_BLACK, COLOR_YELLOW, COLOR_GRAY = symbols('red blue brown white black yellow gray')\n",
        "HABITAT_FOREST, HABITAT_WATER, HABITAT_FIELD, HABITAT_MOUNTAINS, HABITAT_CITY = symbols('forest water field mountains city')"
      ],
      "metadata": {
        "id": "qFLT5Ukfaml4"
      },
      "execution_count": 2,
      "outputs": []
    },
    {
      "cell_type": "code",
      "source": [
        "# @title База знаний о птицах\n",
        "\n",
        "has_size = Relation()\n",
        "has_color = Relation()\n",
        "has_habitat = Relation()\n",
        "\n",
        "facts(has_size, ('синица', SIZE_SMALL))\n",
        "facts(has_color, ('синица', COLOR_BLUE))\n",
        "facts(has_habitat, ('синица', HABITAT_FOREST))\n",
        "\n",
        "facts(has_size, ('воробей', SIZE_SMALL))\n",
        "facts(has_color, ('воробей', COLOR_BROWN))\n",
        "facts(has_habitat, ('воробей', HABITAT_CITY))\n",
        "\n",
        "facts(has_size, ('утка', SIZE_MEDIUM))\n",
        "facts(has_color, ('утка', COLOR_BROWN))\n",
        "facts(has_color, ('утка', COLOR_WHITE))\n",
        "facts(has_habitat, ('утка', HABITAT_WATER))\n",
        "\n",
        "facts(has_size, ('орел', SIZE_LARGE))\n",
        "facts(has_color, ('орел', COLOR_BROWN))\n",
        "facts(has_habitat, ('орел', HABITAT_MOUNTAINS))\n",
        "\n",
        "facts(has_size, ('снегирь', SIZE_SMALL))\n",
        "facts(has_color, ('снегирь', COLOR_RED))\n",
        "facts(has_habitat, ('снегирь', HABITAT_FOREST))\n",
        "\n",
        "facts(has_size, ('голубь', SIZE_MEDIUM))\n",
        "facts(has_color, ('голубь', COLOR_GRAY))\n",
        "facts(has_color, ('голубь', COLOR_WHITE))\n",
        "facts(has_habitat, ('голубь', HABITAT_FIELD))\n",
        "facts(has_habitat, ('голубь', HABITAT_CITY))\n",
        "\n",
        "facts(has_size, ('сова', SIZE_MEDIUM))\n",
        "facts(has_color, ('сова', COLOR_BROWN))\n",
        "facts(has_color, ('сова', COLOR_GRAY))\n",
        "facts(has_habitat, ('сова', HABITAT_FOREST))\n",
        "facts(has_habitat, ('сова', HABITAT_MOUNTAINS))\n",
        "\n",
        "facts(has_size, ('лебедь', SIZE_LARGE))\n",
        "facts(has_color, ('лебедь', COLOR_WHITE))\n",
        "facts(has_habitat, ('лебедь', HABITAT_WATER))\n",
        "\n",
        "facts(has_size, ('дятел', SIZE_SMALL))\n",
        "facts(has_color, ('дятел', COLOR_BLACK))\n",
        "facts(has_color, ('дятел', COLOR_WHITE))\n",
        "facts(has_color, ('дятел', COLOR_RED))\n",
        "facts(has_habitat, ('дятел', HABITAT_FOREST))\n",
        "\n",
        "facts(has_size, ('цапля', SIZE_LARGE))\n",
        "facts(has_color, ('цапля', COLOR_GRAY))\n",
        "facts(has_color, ('цапля', COLOR_WHITE))\n",
        "facts(has_habitat, ('цапля', HABITAT_WATER))\n",
        "facts(has_habitat, ('цапля', HABITAT_FIELD))"
      ],
      "metadata": {
        "id": "3jCVg8cxao65"
      },
      "execution_count": 27,
      "outputs": []
    },
    {
      "cell_type": "code",
      "source": [
        "# @title Правила определения птиц\n",
        "\n",
        "def find_bird_by_characteristics(input_size=None, input_color=None, input_habitat=None):\n",
        "    \"\"\"Гибкий поиск: можно указать не все характеристики\"\"\"\n",
        "    bird = var()\n",
        "    size_var = var()\n",
        "    color_var = var()\n",
        "    habitat_var = var()\n",
        "\n",
        "    goals = []\n",
        "\n",
        "    if input_size is not None:\n",
        "        goals.append(has_size(bird, size_var))\n",
        "        goals.append(eq(size_var, input_size))\n",
        "\n",
        "    if input_color is not None:\n",
        "        goals.append(has_color(bird, color_var))\n",
        "        goals.append(eq(color_var, input_color))\n",
        "\n",
        "    if input_habitat is not None:\n",
        "        goals.append(has_habitat(bird, habitat_var))\n",
        "        goals.append(eq(habitat_var, input_habitat))\n",
        "\n",
        "    return run(0, bird, lall(*goals))"
      ],
      "metadata": {
        "id": "dImou3HgasQi"
      },
      "execution_count": 8,
      "outputs": []
    },
    {
      "cell_type": "code",
      "source": [
        "# @title Пользовательский интерфейс\n",
        "\n",
        "def identify_bird():\n",
        "    print(\"Выберите характеристики птицы:\")\n",
        "\n",
        "    print(\"\\nРазмер:\")\n",
        "    print(\"1 - Маленькая\")\n",
        "    print(\"2 - Средняя\")\n",
        "    print(\"3 - Большая\")\n",
        "    size_choice = input(\"Ваш выбор (1-3): \")\n",
        "\n",
        "    print(\"\\nОкрас:\")\n",
        "    print(\"1 - Красный\")\n",
        "    print(\"2 - Синий\")\n",
        "    print(\"3 - Коричневый\")\n",
        "    print(\"4 - Белый\")\n",
        "    print(\"5 - Черный\")\n",
        "    print(\"6 - Серый\")\n",
        "    color_choice = input(\"Ваш выбор (1-6): \")\n",
        "\n",
        "    print(\"\\nСреда обитания:\")\n",
        "    print(\"1 - Лес\")\n",
        "    print(\"2 - Водоем\")\n",
        "    print(\"3 - Поле\")\n",
        "    print(\"4 - Горы\")\n",
        "    print(\"5 - Город\")\n",
        "    habitat_choice = input(\"Ваш выбор (1-5): \")\n",
        "\n",
        "    size_map = {'1': SIZE_SMALL, '2': SIZE_MEDIUM, '3': SIZE_LARGE, '': None}\n",
        "    color_map = {'1': COLOR_RED, '2': COLOR_BLUE, '3': COLOR_BROWN, '4': COLOR_WHITE, '5': COLOR_BLACK, '6': COLOR_GRAY, '': None}\n",
        "    habitat_map = {'1': HABITAT_FOREST, '2': HABITAT_WATER, '3': HABITAT_FIELD, '4': HABITAT_MOUNTAINS, '5': HABITAT_CITY, '': None}\n",
        "\n",
        "    try:\n",
        "        selected_size = size_map[size_choice]\n",
        "        selected_color = color_map[color_choice]\n",
        "        selected_habitat = habitat_map[habitat_choice]\n",
        "\n",
        "        results = find_bird_by_characteristics(selected_size, selected_color, selected_habitat)\n",
        "\n",
        "        if results:\n",
        "            print(f\"\\nРезультат поиска:\")\n",
        "            for bird in results:\n",
        "                print(f\"- {bird.capitalize()}\")\n",
        "        else:\n",
        "            print(\"Птица с такими характеристиками не найдена\")\n",
        "\n",
        "    except AttributeError:\n",
        "        print('Ошибка: хотя бы одно поле для поиска должно быть указано') # 'Var' object has no attribute 'capitalize'\n",
        "\n",
        "    except KeyError:\n",
        "        print(\"Ошибка: введите корректные номера характеристик\")\n",
        "\n",
        "\n",
        "while True:\n",
        "    print(\"\\n\" + \"=\"*50)\n",
        "    identify_bird()"
      ],
      "metadata": {
        "id": "MnBlxzPCSt75"
      },
      "execution_count": null,
      "outputs": []
    },
    {
      "cell_type": "code",
      "source": [
        "import unittest\n",
        "\n",
        "class TestBirdFinder(unittest.TestCase):\n",
        "\n",
        "    def test_pigeon(self):\n",
        "        result = find_bird_by_characteristics(SIZE_MEDIUM, COLOR_GRAY, HABITAT_CITY)\n",
        "        self.assertEqual(result[0], 'голубь')\n",
        "\n",
        "    def test_sparrow_by_two_metrics(self):\n",
        "        result = find_bird_by_characteristics(SIZE_SMALL, COLOR_BROWN)\n",
        "        self.assertEqual(result[0], 'воробей')\n",
        "\n",
        "    def test_sparrow(self):\n",
        "        result = find_bird_by_characteristics(SIZE_SMALL, COLOR_BROWN, HABITAT_CITY)\n",
        "        self.assertEqual(result[0], 'воробей')\n",
        "\n",
        "    def test_multi_color(self):\n",
        "        result = find_bird_by_characteristics(input_color=COLOR_RED)\n",
        "        self.assertEqual(result, ('снегирь', 'дятел'))\n",
        "\n",
        "    def test_unreal_bird(self):\n",
        "        result = find_bird_by_characteristics(input_color=COLOR_RED, input_habitat=HABITAT_MOUNTAINS)\n",
        "        self.assertEqual(result, ())\n",
        "\n",
        "\n",
        "if __name__ == '__main__':\n",
        "    unittest.main(argv=[''], verbosity=2, exit=False)"
      ],
      "metadata": {
        "colab": {
          "base_uri": "https://localhost:8080/"
        },
        "id": "jQfsiZPcNkAb",
        "outputId": "cc2a1791-d829-4005-922f-bff6fb812124"
      },
      "execution_count": 43,
      "outputs": [
        {
          "output_type": "stream",
          "name": "stderr",
          "text": [
            "test_multi_color (__main__.TestBirdFinder.test_multi_color) ... ok\n",
            "test_pigeon (__main__.TestBirdFinder.test_pigeon) ... ok\n",
            "test_sparrow (__main__.TestBirdFinder.test_sparrow) ... ok\n",
            "test_sparrow_by_two_metrics (__main__.TestBirdFinder.test_sparrow_by_two_metrics) ... ok\n",
            "test_unreal_bird (__main__.TestBirdFinder.test_unreal_bird) ... ok\n",
            "\n",
            "----------------------------------------------------------------------\n",
            "Ran 5 tests in 0.032s\n",
            "\n",
            "OK\n"
          ]
        }
      ]
    }
  ]
}