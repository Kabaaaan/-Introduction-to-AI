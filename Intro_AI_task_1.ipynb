{
  "nbformat": 4,
  "nbformat_minor": 0,
  "metadata": {
    "colab": {
      "provenance": [],
      "authorship_tag": "ABX9TyPZ714iPrVK2YwrOWiXsy+u",
      "include_colab_link": true
    },
    "kernelspec": {
      "name": "python3",
      "display_name": "Python 3"
    },
    "language_info": {
      "name": "python"
    }
  },
  "cells": [
    {
      "cell_type": "markdown",
      "metadata": {
        "id": "view-in-github",
        "colab_type": "text"
      },
      "source": [
        "<a href=\"https://colab.research.google.com/github/Kabaaaan/-Introduction-to-AI/blob/main/Intro_AI_task_1.ipynb\" target=\"_parent\"><img src=\"https://colab.research.google.com/assets/colab-badge.svg\" alt=\"Open In Colab\"/></a>"
      ]
    },
    {
      "cell_type": "markdown",
      "source": [
        "Необходимо разработать программу, которая использует символьные и логические вычисления для классификации птиц по различным характеристикам, таким как размер, окрас и среда обитания. Входные данные будут\n",
        "содержать описания птиц, а выходные данные – вид птицы.\n",
        "\n",
        "\n",
        "Технические требования \\\n",
        "• Программа должна быть написана на Python. \\\n",
        "• Используйте Sympy для обработки и упрощения логических выражений. Документация на русском, документация на английском. \\\n",
        "• Примените Kanren для реализации логического программирования\n",
        "и работы с правилами вывода. Для работы данного модуля версия\n",
        "Python должна быть старее, чем 3.10.\n",
        "\n",
        "\n",
        "\n"
      ],
      "metadata": {
        "id": "PHvkuELg1FaO"
      }
    },
    {
      "cell_type": "markdown",
      "source": [
        "**Шаги выполнения**\n",
        "\n",
        "1. Используйте Sympy для создания символьных переменных, описывающих размер, окрас и среду обитания птиц.\n",
        "2. В Kanren определите факты, представляющие различные виды птиц\n",
        "и их характеристики. Создайте логические правила для классификации птиц на основе их характеристик.\n",
        "3. Реализация логического вывода: настройте запросы к базе знаний\n",
        "для определения видов птиц на основе входных данных.\n",
        "\n",
        "\n",
        "**Критерии зачета по лабораторной**\n",
        "1. Реализованы требования из предыдущих разделов.\n",
        "2. Имеется пользовательский интерфейс (можно консольный) для осуществления запросов.\n",
        "3. Обработаны ошибки ввода (например, пользователь ввел набор знаний, под который не подпадает ни один вид птиц).\n"
      ],
      "metadata": {
        "id": "wWTgOYBF6TIA"
      }
    },
    {
      "cell_type": "code",
      "execution_count": null,
      "metadata": {
        "collapsed": true,
        "id": "qa0KhbuozTuC"
      },
      "outputs": [],
      "source": [
        "!sudo apt-get update -y\n",
        "!sudo apt-get install software-properties-common -y\n",
        "!sudo add-apt-repository ppa:deadsnakes/ppa -y\n",
        "!sudo apt-get update -y\n",
        "!sudo apt-get install python3.7 -y"
      ]
    },
    {
      "cell_type": "markdown",
      "source": [],
      "metadata": {
        "id": "C6zLDKjDSzlF"
      }
    },
    {
      "cell_type": "code",
      "source": [
        "!python3.7 --version\n",
        "# !curl https://bootstrap.pypa.io/get-pip.py -o get-pip.py\n",
        "# !python3.7 get-pip.py\n",
        "# !python3.7 -m pip --version"
      ],
      "metadata": {
        "colab": {
          "base_uri": "https://localhost:8080/"
        },
        "collapsed": true,
        "id": "tprPnmtg0z7O",
        "outputId": "0e9b09b3-86a3-437b-c9b6-d4fe6fc0841f"
      },
      "execution_count": 31,
      "outputs": [
        {
          "output_type": "stream",
          "name": "stdout",
          "text": [
            "Python 3.7.17\n"
          ]
        }
      ]
    },
    {
      "cell_type": "code",
      "source": [
        "from kanren import Relation, facts, run, var, conde, lall, eq\n",
        "from sympy import symbols"
      ],
      "metadata": {
        "id": "TocWaZgf1AXR"
      },
      "execution_count": 32,
      "outputs": []
    },
    {
      "cell_type": "code",
      "source": [
        "# @title Символьные переменные\n",
        "\n",
        "size, color, habitat = symbols('size color habitat')\n",
        "\n",
        "SIZE_SMALL, SIZE_MEDIUM, SIZE_LARGE = symbols('small medium large')\n",
        "COLOR_RED, COLOR_BLUE, COLOR_BROWN, COLOR_WHITE, COLOR_BLACK, COLOR_YELLOW = symbols('red blue brown white black yellow')\n",
        "HABITAT_FOREST, HABITAT_WATER, HABITAT_FIELD, HABITAT_MOUNTAINS = symbols('forest water field mountains')"
      ],
      "metadata": {
        "cellView": "form",
        "id": "qFLT5Ukfaml4"
      },
      "execution_count": 33,
      "outputs": []
    },
    {
      "cell_type": "code",
      "source": [
        "# @title База знаний о птицах\n",
        "\n",
        "has_size = Relation()\n",
        "has_color = Relation()\n",
        "has_habitat = Relation()\n",
        "\n",
        "facts(has_size, ('синица', SIZE_SMALL))\n",
        "facts(has_color, ('синица', COLOR_BLUE))\n",
        "facts(has_habitat, ('синица', HABITAT_FOREST))\n",
        "\n",
        "facts(has_size, ('воробей', SIZE_SMALL))\n",
        "facts(has_color, ('воробей', COLOR_BROWN))\n",
        "facts(has_habitat, ('воробей', HABITAT_FIELD))\n",
        "\n",
        "facts(has_size, ('утка', SIZE_MEDIUM))\n",
        "facts(has_color, ('утка', COLOR_BROWN))\n",
        "facts(has_color, ('утка', COLOR_WHITE))\n",
        "facts(has_habitat, ('утка', HABITAT_WATER))\n",
        "\n",
        "facts(has_size, ('орел', SIZE_LARGE))\n",
        "facts(has_color, ('орел', COLOR_BROWN))\n",
        "facts(has_habitat, ('орел', HABITAT_MOUNTAINS))\n",
        "\n",
        "facts(has_size, ('снегирь', SIZE_SMALL))\n",
        "facts(has_color, ('снегирь', COLOR_RED))\n",
        "facts(has_habitat, ('снегирь', HABITAT_FOREST))"
      ],
      "metadata": {
        "cellView": "form",
        "id": "3jCVg8cxao65"
      },
      "execution_count": 34,
      "outputs": []
    },
    {
      "cell_type": "code",
      "source": [
        "# @title Правила определения птиц\n",
        "\n",
        "def is_bird_type(bird, input_size, input_color, input_habitat):\n",
        "    \"\"\"Правило для определения вида птицы по характеристикам\"\"\"\n",
        "    size_var = var()\n",
        "    color_var = var()\n",
        "    habitat_var = var()\n",
        "\n",
        "    # тут можно записать conde и тогда будет совпадение хотя бы по одному признаку\n",
        "    return lall(\n",
        "        has_size(bird, size_var),\n",
        "        has_color(bird, color_var),\n",
        "        has_habitat(bird, habitat_var),\n",
        "        eq(size_var, input_size),\n",
        "        eq(color_var, input_color),\n",
        "        eq(habitat_var, input_habitat)\n",
        "    )\n",
        "\n",
        "def find_bird_by_characteristics(input_size, input_color, input_habitat):\n",
        "    \"\"\"Функция для поиска птиц по характеристикам\"\"\"\n",
        "    bird = var()\n",
        "    results = run(0, bird, is_bird_type(bird, input_size, input_color, input_habitat))\n",
        "    return results"
      ],
      "metadata": {
        "cellView": "form",
        "id": "dImou3HgasQi"
      },
      "execution_count": 35,
      "outputs": []
    },
    {
      "cell_type": "code",
      "source": [
        "def identify_bird():\n",
        "    \"\"\"Интерактивная функция для определения птицы\"\"\"\n",
        "    print(\"=== ОПРЕДЕЛИТЕЛЬ ПТИЦ ===\")\n",
        "    print(\"Выберите характеристики птицы:\")\n",
        "\n",
        "    print(\"\\nРазмер:\")\n",
        "    print(\"1 - Маленькая\")\n",
        "    print(\"2 - Средняя\")\n",
        "    print(\"3 - Большая\")\n",
        "    size_choice = input(\"Ваш выбор (1-3): \")\n",
        "\n",
        "    print(\"\\nОкрас:\")\n",
        "    print(\"1 - Красный\")\n",
        "    print(\"2 - Синий\")\n",
        "    print(\"3 - Коричневый\")\n",
        "    print(\"4 - Белый\")\n",
        "    print(\"5 - Черный\")\n",
        "    color_choice = input(\"Ваш выбор (1-5): \")\n",
        "\n",
        "    print(\"\\nСреда обитания:\")\n",
        "    print(\"1 - Лес\")\n",
        "    print(\"2 - Водоем\")\n",
        "    print(\"3 - Поле\")\n",
        "    print(\"4 - Горы\")\n",
        "    habitat_choice = input(\"Ваш выбор (1-4): \")\n",
        "\n",
        "    size_map = {'1': SIZE_SMALL, '2': SIZE_MEDIUM, '3': SIZE_LARGE}\n",
        "    color_map = {'1': COLOR_RED, '2': COLOR_BLUE, '3': COLOR_BROWN, '4': COLOR_WHITE, '5': COLOR_BLACK}\n",
        "    habitat_map = {'1': HABITAT_FOREST, '2': HABITAT_WATER, '3': HABITAT_FIELD, '4': HABITAT_MOUNTAINS}\n",
        "\n",
        "    try:\n",
        "        selected_size = size_map[size_choice]\n",
        "        selected_color = color_map[color_choice]\n",
        "        selected_habitat = habitat_map[habitat_choice]\n",
        "\n",
        "        results = find_bird_by_characteristics(selected_size, selected_color, selected_habitat)\n",
        "\n",
        "        print(f\"\\nРезультат поиска:\")\n",
        "        if results:\n",
        "            for bird in results:\n",
        "                print(f\"- {bird.capitalize()}\")\n",
        "        else:\n",
        "            print(\"Птица с такими характеристиками не найдена в базе данных\")\n",
        "\n",
        "    except KeyError:\n",
        "        print(\"Ошибка: введите корректные номера характеристик\")"
      ],
      "metadata": {
        "id": "MnBlxzPCSt75"
      },
      "execution_count": 36,
      "outputs": []
    },
    {
      "cell_type": "code",
      "source": [
        "# Запуск интерактивного режима\n",
        "# print(\"\\n\" + \"=\"*50)\n",
        "# identify_bird()\n",
        "\n",
        "results = find_bird_by_characteristics(SIZE_SMALL, COLOR_BLUE, HABITAT_FOREST)\n",
        "results = find_bird_by_characteristics(SIZE_MEDIUM, COLOR_BROWN, HABITAT_WATER)\n",
        "print(results)  # Должно вернуть ['синица']"
      ],
      "metadata": {
        "id": "QYlHjYPLaxdm"
      },
      "execution_count": null,
      "outputs": []
    },
    {
      "cell_type": "code",
      "source": [
        "!pip install pytest"
      ],
      "metadata": {
        "id": "SbePx44fcAZg"
      },
      "execution_count": null,
      "outputs": []
    },
    {
      "cell_type": "code",
      "source": [
        "# @title Тестирование\n",
        "\n",
        "%%file test_example.py\n",
        "\n",
        "def add(a, b):\n",
        "    return a + b\n",
        "\n",
        "def test_add():\n",
        "    assert add(2, 3) == 5\n",
        "    assert add(-1, 1) == 0\n",
        "    assert add(0, 0) == 0\n",
        "\n",
        "def test_add_negative():\n",
        "    assert add(-5, -3) == -8"
      ],
      "metadata": {
        "colab": {
          "base_uri": "https://localhost:8080/"
        },
        "id": "4gTaHzSjcD6o",
        "outputId": "ebd41a23-da17-4822-a37f-e1b4c4d6493f"
      },
      "execution_count": 39,
      "outputs": [
        {
          "output_type": "stream",
          "name": "stdout",
          "text": [
            "Overwriting test_example.py\n"
          ]
        }
      ]
    },
    {
      "cell_type": "code",
      "source": [
        "!python -m pytest test_example.py -v"
      ],
      "metadata": {
        "id": "gock0VgycFs7"
      },
      "execution_count": null,
      "outputs": []
    }
  ]
}